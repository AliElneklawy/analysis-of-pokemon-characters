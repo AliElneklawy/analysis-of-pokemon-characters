{
 "cells": [
  {
   "cell_type": "code",
   "execution_count": 1,
   "id": "0d6f8526",
   "metadata": {},
   "outputs": [],
   "source": [
    "import pandas as pd\n",
    "import matplotlib.pyplot as plt\n",
    "\n",
    "pd.set_option(\"display.max_rows\", 100)\n",
    "pd.set_option(\"display.max_columns\", 100)"
   ]
  },
  {
   "cell_type": "code",
   "execution_count": 2,
   "id": "301bae5a",
   "metadata": {},
   "outputs": [],
   "source": [
    "pok = pd.read_csv('pokemon_data.csv')"
   ]
  },
  {
   "cell_type": "code",
   "execution_count": 49,
   "id": "3a91d0e8",
   "metadata": {},
   "outputs": [
    {
     "data": {
      "text/html": [
       "<div>\n",
       "<style scoped>\n",
       "    .dataframe tbody tr th:only-of-type {\n",
       "        vertical-align: middle;\n",
       "    }\n",
       "\n",
       "    .dataframe tbody tr th {\n",
       "        vertical-align: top;\n",
       "    }\n",
       "\n",
       "    .dataframe thead th {\n",
       "        text-align: right;\n",
       "    }\n",
       "</style>\n",
       "<table border=\"1\" class=\"dataframe\">\n",
       "  <thead>\n",
       "    <tr style=\"text-align: right;\">\n",
       "      <th></th>\n",
       "      <th>Name</th>\n",
       "      <th>Type1</th>\n",
       "      <th>Type2</th>\n",
       "      <th>HP</th>\n",
       "      <th>Attack</th>\n",
       "      <th>Defense</th>\n",
       "      <th>Sp.Atk</th>\n",
       "      <th>Sp.Def</th>\n",
       "      <th>Speed</th>\n",
       "      <th>Generation</th>\n",
       "      <th>Legendary</th>\n",
       "    </tr>\n",
       "  </thead>\n",
       "  <tbody>\n",
       "    <tr>\n",
       "      <th>0</th>\n",
       "      <td>Bulbasaur</td>\n",
       "      <td>Grass</td>\n",
       "      <td>Poison</td>\n",
       "      <td>45</td>\n",
       "      <td>49</td>\n",
       "      <td>49</td>\n",
       "      <td>65</td>\n",
       "      <td>65</td>\n",
       "      <td>45</td>\n",
       "      <td>1</td>\n",
       "      <td>False</td>\n",
       "    </tr>\n",
       "    <tr>\n",
       "      <th>1</th>\n",
       "      <td>Ivysaur</td>\n",
       "      <td>Grass</td>\n",
       "      <td>Poison</td>\n",
       "      <td>60</td>\n",
       "      <td>62</td>\n",
       "      <td>63</td>\n",
       "      <td>80</td>\n",
       "      <td>80</td>\n",
       "      <td>60</td>\n",
       "      <td>1</td>\n",
       "      <td>False</td>\n",
       "    </tr>\n",
       "    <tr>\n",
       "      <th>2</th>\n",
       "      <td>Venusaur</td>\n",
       "      <td>Grass</td>\n",
       "      <td>Poison</td>\n",
       "      <td>80</td>\n",
       "      <td>82</td>\n",
       "      <td>83</td>\n",
       "      <td>100</td>\n",
       "      <td>100</td>\n",
       "      <td>80</td>\n",
       "      <td>1</td>\n",
       "      <td>False</td>\n",
       "    </tr>\n",
       "    <tr>\n",
       "      <th>3</th>\n",
       "      <td>VenusaurMega Venusaur</td>\n",
       "      <td>Grass</td>\n",
       "      <td>Poison</td>\n",
       "      <td>80</td>\n",
       "      <td>100</td>\n",
       "      <td>123</td>\n",
       "      <td>122</td>\n",
       "      <td>120</td>\n",
       "      <td>80</td>\n",
       "      <td>1</td>\n",
       "      <td>False</td>\n",
       "    </tr>\n",
       "    <tr>\n",
       "      <th>4</th>\n",
       "      <td>Charmander</td>\n",
       "      <td>Fire</td>\n",
       "      <td>NaN</td>\n",
       "      <td>39</td>\n",
       "      <td>52</td>\n",
       "      <td>43</td>\n",
       "      <td>60</td>\n",
       "      <td>50</td>\n",
       "      <td>65</td>\n",
       "      <td>1</td>\n",
       "      <td>False</td>\n",
       "    </tr>\n",
       "    <tr>\n",
       "      <th>...</th>\n",
       "      <td>...</td>\n",
       "      <td>...</td>\n",
       "      <td>...</td>\n",
       "      <td>...</td>\n",
       "      <td>...</td>\n",
       "      <td>...</td>\n",
       "      <td>...</td>\n",
       "      <td>...</td>\n",
       "      <td>...</td>\n",
       "      <td>...</td>\n",
       "      <td>...</td>\n",
       "    </tr>\n",
       "    <tr>\n",
       "      <th>795</th>\n",
       "      <td>Diancie</td>\n",
       "      <td>Rock</td>\n",
       "      <td>Fairy</td>\n",
       "      <td>50</td>\n",
       "      <td>100</td>\n",
       "      <td>150</td>\n",
       "      <td>100</td>\n",
       "      <td>150</td>\n",
       "      <td>50</td>\n",
       "      <td>6</td>\n",
       "      <td>True</td>\n",
       "    </tr>\n",
       "    <tr>\n",
       "      <th>796</th>\n",
       "      <td>DiancieMega Diancie</td>\n",
       "      <td>Rock</td>\n",
       "      <td>Fairy</td>\n",
       "      <td>50</td>\n",
       "      <td>160</td>\n",
       "      <td>110</td>\n",
       "      <td>160</td>\n",
       "      <td>110</td>\n",
       "      <td>110</td>\n",
       "      <td>6</td>\n",
       "      <td>True</td>\n",
       "    </tr>\n",
       "    <tr>\n",
       "      <th>797</th>\n",
       "      <td>HoopaHoopa Confined</td>\n",
       "      <td>Psychic</td>\n",
       "      <td>Ghost</td>\n",
       "      <td>80</td>\n",
       "      <td>110</td>\n",
       "      <td>60</td>\n",
       "      <td>150</td>\n",
       "      <td>130</td>\n",
       "      <td>70</td>\n",
       "      <td>6</td>\n",
       "      <td>True</td>\n",
       "    </tr>\n",
       "    <tr>\n",
       "      <th>798</th>\n",
       "      <td>HoopaHoopa Unbound</td>\n",
       "      <td>Psychic</td>\n",
       "      <td>Dark</td>\n",
       "      <td>80</td>\n",
       "      <td>160</td>\n",
       "      <td>60</td>\n",
       "      <td>170</td>\n",
       "      <td>130</td>\n",
       "      <td>80</td>\n",
       "      <td>6</td>\n",
       "      <td>True</td>\n",
       "    </tr>\n",
       "    <tr>\n",
       "      <th>799</th>\n",
       "      <td>Volcanion</td>\n",
       "      <td>Fire</td>\n",
       "      <td>Water</td>\n",
       "      <td>80</td>\n",
       "      <td>110</td>\n",
       "      <td>120</td>\n",
       "      <td>130</td>\n",
       "      <td>90</td>\n",
       "      <td>70</td>\n",
       "      <td>6</td>\n",
       "      <td>True</td>\n",
       "    </tr>\n",
       "  </tbody>\n",
       "</table>\n",
       "<p>800 rows × 11 columns</p>\n",
       "</div>"
      ],
      "text/plain": [
       "                      Name    Type1   Type2  HP  Attack  Defense  Sp.Atk  \\\n",
       "0                Bulbasaur    Grass  Poison  45      49       49      65   \n",
       "1                  Ivysaur    Grass  Poison  60      62       63      80   \n",
       "2                 Venusaur    Grass  Poison  80      82       83     100   \n",
       "3    VenusaurMega Venusaur    Grass  Poison  80     100      123     122   \n",
       "4               Charmander     Fire     NaN  39      52       43      60   \n",
       "..                     ...      ...     ...  ..     ...      ...     ...   \n",
       "795                Diancie     Rock   Fairy  50     100      150     100   \n",
       "796    DiancieMega Diancie     Rock   Fairy  50     160      110     160   \n",
       "797    HoopaHoopa Confined  Psychic   Ghost  80     110       60     150   \n",
       "798     HoopaHoopa Unbound  Psychic    Dark  80     160       60     170   \n",
       "799              Volcanion     Fire   Water  80     110      120     130   \n",
       "\n",
       "     Sp.Def  Speed  Generation  Legendary  \n",
       "0        65     45           1      False  \n",
       "1        80     60           1      False  \n",
       "2       100     80           1      False  \n",
       "3       120     80           1      False  \n",
       "4        50     65           1      False  \n",
       "..      ...    ...         ...        ...  \n",
       "795     150     50           6       True  \n",
       "796     110    110           6       True  \n",
       "797     130     70           6       True  \n",
       "798     130     80           6       True  \n",
       "799      90     70           6       True  \n",
       "\n",
       "[800 rows x 11 columns]"
      ]
     },
     "execution_count": 49,
     "metadata": {},
     "output_type": "execute_result"
    }
   ],
   "source": [
    "pok.columns = pok.columns.str.replace(' ', '')\n",
    "pok"
   ]
  },
  {
   "cell_type": "markdown",
   "id": "f907360f",
   "metadata": {},
   "source": [
    "# Which Pokémon has the highest HP?\n"
   ]
  },
  {
   "cell_type": "code",
   "execution_count": 269,
   "id": "1e279699",
   "metadata": {},
   "outputs": [
    {
     "data": {
      "text/plain": [
       "Name    Blissey\n",
       "HP          255\n",
       "Name: 261, dtype: object"
      ]
     },
     "execution_count": 269,
     "metadata": {},
     "output_type": "execute_result"
    }
   ],
   "source": [
    "pok.loc[pok['HP'].idxmax(), ['Name', 'HP']]"
   ]
  },
  {
   "cell_type": "markdown",
   "id": "8b5eab45",
   "metadata": {},
   "source": [
    "# What is the average attack stat of Grass-type Pokémon?\n"
   ]
  },
  {
   "cell_type": "code",
   "execution_count": 54,
   "id": "d156daca",
   "metadata": {},
   "outputs": [
    {
     "data": {
      "text/plain": [
       "73.46315789473684"
      ]
     },
     "execution_count": 54,
     "metadata": {},
     "output_type": "execute_result"
    }
   ],
   "source": [
    "pok.query(\"Type1 == 'Grass' or Type2 == 'Grass'\")['Attack'].mean()"
   ]
  },
  {
   "cell_type": "markdown",
   "id": "c96e22e0",
   "metadata": {},
   "source": [
    "# Which Pokémon has the highest total base stats (sum of HP, Attack, Defense, Sp. Atk, Sp. Def, and Speed)?\n"
   ]
  },
  {
   "cell_type": "code",
   "execution_count": 270,
   "id": "5947808a",
   "metadata": {},
   "outputs": [
    {
     "data": {
      "text/plain": [
       "Name              MewtwoMega Mewtwo X\n",
       "Type1                         Psychic\n",
       "Type2                        Fighting\n",
       "HP                                106\n",
       "Attack                            190\n",
       "Defense                           100\n",
       "Sp.Atk                            154\n",
       "Sp.Def                            100\n",
       "Speed                             130\n",
       "Generation                          1\n",
       "Legendary                        True\n",
       "TotalBaseStats                    780\n",
       "att_def_diff                       54\n",
       "AtkDefRation                      1.9\n",
       "Name: 163, dtype: object"
      ]
     },
     "execution_count": 270,
     "metadata": {},
     "output_type": "execute_result"
    }
   ],
   "source": [
    "pok['TotalBaseStats'] = pok.loc[:, 'HP':'Speed'].sum(axis=1)\n",
    "pok.loc[pok['TotalBaseStats'].idxmax()]\n"
   ]
  },
  {
   "cell_type": "markdown",
   "id": "97fa4035",
   "metadata": {},
   "source": [
    "# What is the correlation coefficient between the attack and defense stats?\n"
   ]
  },
  {
   "cell_type": "code",
   "execution_count": 95,
   "id": "6227ca35",
   "metadata": {},
   "outputs": [
    {
     "data": {
      "text/plain": [
       "0.4386870551184895"
      ]
     },
     "execution_count": 95,
     "metadata": {},
     "output_type": "execute_result"
    }
   ],
   "source": [
    "pok['Attack'].corr(pok['Defense'])"
   ]
  },
  {
   "cell_type": "markdown",
   "id": "589e23c9",
   "metadata": {},
   "source": [
    "# Which generation has the most legendary Pokémon?\n"
   ]
  },
  {
   "cell_type": "code",
   "execution_count": 136,
   "id": "8eec592b",
   "metadata": {},
   "outputs": [
    {
     "data": {
      "text/html": [
       "<div>\n",
       "<style scoped>\n",
       "    .dataframe tbody tr th:only-of-type {\n",
       "        vertical-align: middle;\n",
       "    }\n",
       "\n",
       "    .dataframe tbody tr th {\n",
       "        vertical-align: top;\n",
       "    }\n",
       "\n",
       "    .dataframe thead th {\n",
       "        text-align: right;\n",
       "    }\n",
       "</style>\n",
       "<table border=\"1\" class=\"dataframe\">\n",
       "  <thead>\n",
       "    <tr style=\"text-align: right;\">\n",
       "      <th></th>\n",
       "      <th>LegendCount</th>\n",
       "    </tr>\n",
       "    <tr>\n",
       "      <th>Generation</th>\n",
       "      <th></th>\n",
       "    </tr>\n",
       "  </thead>\n",
       "  <tbody>\n",
       "    <tr>\n",
       "      <th>1</th>\n",
       "      <td>6</td>\n",
       "    </tr>\n",
       "    <tr>\n",
       "      <th>2</th>\n",
       "      <td>5</td>\n",
       "    </tr>\n",
       "    <tr>\n",
       "      <th>3</th>\n",
       "      <td>18</td>\n",
       "    </tr>\n",
       "    <tr>\n",
       "      <th>4</th>\n",
       "      <td>13</td>\n",
       "    </tr>\n",
       "    <tr>\n",
       "      <th>5</th>\n",
       "      <td>15</td>\n",
       "    </tr>\n",
       "    <tr>\n",
       "      <th>6</th>\n",
       "      <td>8</td>\n",
       "    </tr>\n",
       "  </tbody>\n",
       "</table>\n",
       "</div>"
      ],
      "text/plain": [
       "            LegendCount\n",
       "Generation             \n",
       "1                     6\n",
       "2                     5\n",
       "3                    18\n",
       "4                    13\n",
       "5                    15\n",
       "6                     8"
      ]
     },
     "execution_count": 136,
     "metadata": {},
     "output_type": "execute_result"
    }
   ],
   "source": [
    "pd.DataFrame(pok[pok['Legendary'] == True].groupby('Generation')['TotalBaseStats'].count()).rename(columns={'TotalBaseStats': 'LegendCount'})"
   ]
  },
  {
   "cell_type": "markdown",
   "id": "ec76b6af",
   "metadata": {},
   "source": [
    "# What is the average HP of Water-type Pokémon with a speed stat greater than 80?\n"
   ]
  },
  {
   "cell_type": "code",
   "execution_count": 155,
   "id": "b3718476",
   "metadata": {},
   "outputs": [
    {
     "data": {
      "text/plain": [
       "72.96875"
      ]
     },
     "execution_count": 155,
     "metadata": {},
     "output_type": "execute_result"
    }
   ],
   "source": [
    "pok.query(\"(Type1 == 'Water' or Type2 == 'Water') and (Speed > 80)\")['HP'].mean()"
   ]
  },
  {
   "cell_type": "markdown",
   "id": "2a78868d",
   "metadata": {},
   "source": [
    "# Among the Pokémon with a single type, which type combination has the highest average attack stat?\n"
   ]
  },
  {
   "cell_type": "code",
   "execution_count": 183,
   "id": "e684424a",
   "metadata": {},
   "outputs": [
    {
     "name": "stdout",
     "output_type": "stream",
     "text": [
      "Flying - 107.5\n"
     ]
    }
   ],
   "source": [
    "grouped = pok.query(\"@pd.isna(Type2)\").groupby('Type1')['Attack'].describe()['mean']\n",
    "print(grouped.idxmax(), '-',grouped.max())\n"
   ]
  },
  {
   "cell_type": "markdown",
   "id": "1386de22",
   "metadata": {},
   "source": [
    "# What is the difference between the average speed of legendary Pokémon and non-legendary Pokémon?\n"
   ]
  },
  {
   "cell_type": "code",
   "execution_count": 191,
   "id": "2ff1738f",
   "metadata": {},
   "outputs": [
    {
     "data": {
      "text/plain": [
       "34.72883307169022"
      ]
     },
     "execution_count": 191,
     "metadata": {},
     "output_type": "execute_result"
    }
   ],
   "source": [
    "\n",
    "lgnd = pok.query(\"Legendary == True\")\n",
    "nonlgnd = pok.query(\"Legendary == False\")\n",
    "\n",
    "lgnd['Speed'].mean() - nonlgnd['Speed'].mean()"
   ]
  },
  {
   "cell_type": "markdown",
   "id": "e002bfb4",
   "metadata": {},
   "source": [
    "# For each type combination (Type 1 + Type 2), what is the average defense stat?\n"
   ]
  },
  {
   "cell_type": "code",
   "execution_count": 204,
   "id": "03bc405e",
   "metadata": {},
   "outputs": [
    {
     "data": {
      "text/html": [
       "<div>\n",
       "<style scoped>\n",
       "    .dataframe tbody tr th:only-of-type {\n",
       "        vertical-align: middle;\n",
       "    }\n",
       "\n",
       "    .dataframe tbody tr th {\n",
       "        vertical-align: top;\n",
       "    }\n",
       "\n",
       "    .dataframe thead th {\n",
       "        text-align: right;\n",
       "    }\n",
       "</style>\n",
       "<table border=\"1\" class=\"dataframe\">\n",
       "  <thead>\n",
       "    <tr style=\"text-align: right;\">\n",
       "      <th></th>\n",
       "      <th></th>\n",
       "      <th>Defense</th>\n",
       "    </tr>\n",
       "    <tr>\n",
       "      <th>Type1</th>\n",
       "      <th>Type2</th>\n",
       "      <th></th>\n",
       "    </tr>\n",
       "  </thead>\n",
       "  <tbody>\n",
       "    <tr>\n",
       "      <th rowspan=\"5\" valign=\"top\">Bug</th>\n",
       "      <th>Electric</th>\n",
       "      <td>55.000000</td>\n",
       "    </tr>\n",
       "    <tr>\n",
       "      <th>Fighting</th>\n",
       "      <td>95.000000</td>\n",
       "    </tr>\n",
       "    <tr>\n",
       "      <th>Fire</th>\n",
       "      <td>60.000000</td>\n",
       "    </tr>\n",
       "    <tr>\n",
       "      <th>Flying</th>\n",
       "      <td>61.571429</td>\n",
       "    </tr>\n",
       "    <tr>\n",
       "      <th>Ghost</th>\n",
       "      <td>45.000000</td>\n",
       "    </tr>\n",
       "    <tr>\n",
       "      <th>...</th>\n",
       "      <th>...</th>\n",
       "      <td>...</td>\n",
       "    </tr>\n",
       "    <tr>\n",
       "      <th rowspan=\"5\" valign=\"top\">Water</th>\n",
       "      <th>Ice</th>\n",
       "      <td>113.333333</td>\n",
       "    </tr>\n",
       "    <tr>\n",
       "      <th>Poison</th>\n",
       "      <td>58.333333</td>\n",
       "    </tr>\n",
       "    <tr>\n",
       "      <th>Psychic</th>\n",
       "      <td>104.000000</td>\n",
       "    </tr>\n",
       "    <tr>\n",
       "      <th>Rock</th>\n",
       "      <td>112.750000</td>\n",
       "    </tr>\n",
       "    <tr>\n",
       "      <th>Steel</th>\n",
       "      <td>88.000000</td>\n",
       "    </tr>\n",
       "  </tbody>\n",
       "</table>\n",
       "<p>136 rows × 1 columns</p>\n",
       "</div>"
      ],
      "text/plain": [
       "                   Defense\n",
       "Type1 Type2               \n",
       "Bug   Electric   55.000000\n",
       "      Fighting   95.000000\n",
       "      Fire       60.000000\n",
       "      Flying     61.571429\n",
       "      Ghost      45.000000\n",
       "...                    ...\n",
       "Water Ice       113.333333\n",
       "      Poison     58.333333\n",
       "      Psychic   104.000000\n",
       "      Rock      112.750000\n",
       "      Steel      88.000000\n",
       "\n",
       "[136 rows x 1 columns]"
      ]
     },
     "execution_count": 204,
     "metadata": {},
     "output_type": "execute_result"
    }
   ],
   "source": [
    "pd.DataFrame(pok.groupby(by=['Type1', 'Type2'])['Defense'].mean())"
   ]
  },
  {
   "cell_type": "markdown",
   "id": "8624112f",
   "metadata": {},
   "source": [
    "# Which Pokémon has the largest difference between its Special Attack and Special Defense stats?\n"
   ]
  },
  {
   "cell_type": "code",
   "execution_count": 219,
   "id": "a2f30f2a",
   "metadata": {},
   "outputs": [
    {
     "data": {
      "text/plain": [
       "Name              DeoxysAttack Forme\n",
       "Type1                        Psychic\n",
       "Type2                            NaN\n",
       "HP                                50\n",
       "Attack                           180\n",
       "Defense                           20\n",
       "Sp.Atk                           180\n",
       "Sp.Def                            20\n",
       "Speed                            150\n",
       "Generation                         3\n",
       "Legendary                       True\n",
       "TotalBaseStats                   600\n",
       "att_def_diff                     160\n",
       "Name: 429, dtype: object"
      ]
     },
     "execution_count": 219,
     "metadata": {},
     "output_type": "execute_result"
    }
   ],
   "source": [
    "pok['att_def_diff'] = pok['Sp.Atk'] - pok['Sp.Def']\n",
    "idx = pok['att_def_diff'].idxmax()\n",
    "pok.loc[idx]"
   ]
  },
  {
   "cell_type": "markdown",
   "id": "6dbeb98b",
   "metadata": {},
   "source": [
    "# Among the Pokémon with a base HP greater than 70, which one has the highest Attack stat?\n"
   ]
  },
  {
   "cell_type": "code",
   "execution_count": 222,
   "id": "56ba36a7",
   "metadata": {},
   "outputs": [
    {
     "data": {
      "text/plain": [
       "Name              MewtwoMega Mewtwo X\n",
       "Type1                         Psychic\n",
       "Type2                        Fighting\n",
       "HP                                106\n",
       "Attack                            190\n",
       "Defense                           100\n",
       "Sp.Atk                            154\n",
       "Sp.Def                            100\n",
       "Speed                             130\n",
       "Generation                          1\n",
       "Legendary                        True\n",
       "TotalBaseStats                    780\n",
       "att_def_diff                       54\n",
       "Name: 163, dtype: object"
      ]
     },
     "execution_count": 222,
     "metadata": {},
     "output_type": "execute_result"
    }
   ],
   "source": [
    "pok.loc[pok.query(\"HP > 70\")['Attack'].idxmax()]"
   ]
  },
  {
   "cell_type": "markdown",
   "id": "9b7ae148",
   "metadata": {},
   "source": [
    "# How many Pokémon have a higher Special Attack stat than both their Attack and Defense stats combined?\n"
   ]
  },
  {
   "cell_type": "code",
   "execution_count": 233,
   "id": "3a8f3fd3",
   "metadata": {},
   "outputs": [
    {
     "data": {
      "text/plain": [
       "234"
      ]
     },
     "execution_count": 233,
     "metadata": {},
     "output_type": "execute_result"
    }
   ],
   "source": [
    "pok[(pok['Sp.Atk'] > pok['Attack']) & (pok['Sp.Atk'] > pok['Defense'])].shape[0]"
   ]
  },
  {
   "cell_type": "markdown",
   "id": "50a2b708",
   "metadata": {},
   "source": [
    "# What is the median speed of the Fire-type Pokémon in each generation?\n"
   ]
  },
  {
   "cell_type": "code",
   "execution_count": 252,
   "id": "4a2ca702",
   "metadata": {},
   "outputs": [
    {
     "data": {
      "text/html": [
       "<div>\n",
       "<style scoped>\n",
       "    .dataframe tbody tr th:only-of-type {\n",
       "        vertical-align: middle;\n",
       "    }\n",
       "\n",
       "    .dataframe tbody tr th {\n",
       "        vertical-align: top;\n",
       "    }\n",
       "\n",
       "    .dataframe thead th {\n",
       "        text-align: right;\n",
       "    }\n",
       "</style>\n",
       "<table border=\"1\" class=\"dataframe\">\n",
       "  <thead>\n",
       "    <tr style=\"text-align: right;\">\n",
       "      <th></th>\n",
       "      <th>MedianSpeed</th>\n",
       "    </tr>\n",
       "    <tr>\n",
       "      <th>Generation</th>\n",
       "      <th></th>\n",
       "    </tr>\n",
       "  </thead>\n",
       "  <tbody>\n",
       "    <tr>\n",
       "      <th>1</th>\n",
       "      <td>91.5</td>\n",
       "    </tr>\n",
       "    <tr>\n",
       "      <th>2</th>\n",
       "      <td>83.0</td>\n",
       "    </tr>\n",
       "    <tr>\n",
       "      <th>3</th>\n",
       "      <td>45.0</td>\n",
       "    </tr>\n",
       "    <tr>\n",
       "      <th>4</th>\n",
       "      <td>82.0</td>\n",
       "    </tr>\n",
       "    <tr>\n",
       "      <th>5</th>\n",
       "      <td>64.5</td>\n",
       "    </tr>\n",
       "    <tr>\n",
       "      <th>6</th>\n",
       "      <td>78.5</td>\n",
       "    </tr>\n",
       "  </tbody>\n",
       "</table>\n",
       "</div>"
      ],
      "text/plain": [
       "            MedianSpeed\n",
       "Generation             \n",
       "1                  91.5\n",
       "2                  83.0\n",
       "3                  45.0\n",
       "4                  82.0\n",
       "5                  64.5\n",
       "6                  78.5"
      ]
     },
     "execution_count": 252,
     "metadata": {},
     "output_type": "execute_result"
    }
   ],
   "source": [
    "pd.DataFrame(pok.query(\"Type1 == 'Fire' or Type2 == 'Fire'\").groupby(by='Generation')['Speed'].median()).rename(columns={'Speed': 'MedianSpeed'})"
   ]
  },
  {
   "cell_type": "markdown",
   "id": "66bc544a",
   "metadata": {},
   "source": [
    "# Among the Pokémon with a base HP between 50 and 70 (inclusive), which one has the highest sum of its Attack, Defense, and Speed stats?\n"
   ]
  },
  {
   "cell_type": "code",
   "execution_count": 254,
   "id": "32e32f44",
   "metadata": {},
   "outputs": [
    {
     "name": "stderr",
     "output_type": "stream",
     "text": [
      "/tmp/ipykernel_12616/855720277.py:3: SettingWithCopyWarning: \n",
      "A value is trying to be set on a copy of a slice from a DataFrame.\n",
      "Try using .loc[row_indexer,col_indexer] = value instead\n",
      "\n",
      "See the caveats in the documentation: https://pandas.pydata.org/pandas-docs/stable/user_guide/indexing.html#returning-a-view-versus-a-copy\n",
      "  grpd['SumStats'] = grpd['Attack'] + grpd['Defense'] + grpd['Speed']\n"
     ]
    },
    {
     "data": {
      "text/plain": [
       "Name              PinsirMega Pinsir\n",
       "Type1                           Bug\n",
       "Type2                        Flying\n",
       "HP                               65\n",
       "Attack                          155\n",
       "Defense                         120\n",
       "Sp.Atk                           65\n",
       "Sp.Def                           90\n",
       "Speed                           105\n",
       "Generation                        1\n",
       "Legendary                     False\n",
       "TotalBaseStats                  600\n",
       "att_def_diff                    -25\n",
       "SumStats                        380\n",
       "Name: 137, dtype: object"
      ]
     },
     "execution_count": 254,
     "metadata": {},
     "output_type": "execute_result"
    }
   ],
   "source": [
    "grpd = pok.query(\"(HP > 50) and (HP < 70)\")\n",
    "grpd['SumStats'] = grpd['Attack'] + grpd['Defense'] + grpd['Speed']\n",
    "idx = grpd['SumStats'].idxmax()\n",
    "grpd.loc[idx]"
   ]
  },
  {
   "cell_type": "markdown",
   "id": "a767cf62",
   "metadata": {},
   "source": [
    "# Which Pokémon has the highest ratio of its Special Attack stat to its Special Defense stat?\n"
   ]
  },
  {
   "cell_type": "code",
   "execution_count": 259,
   "id": "018038e7",
   "metadata": {},
   "outputs": [
    {
     "data": {
      "text/plain": [
       "Name              DeoxysAttack Forme\n",
       "Type1                        Psychic\n",
       "Type2                            NaN\n",
       "HP                                50\n",
       "Attack                           180\n",
       "Defense                           20\n",
       "Sp.Atk                           180\n",
       "Sp.Def                            20\n",
       "Speed                            150\n",
       "Generation                         3\n",
       "Legendary                       True\n",
       "TotalBaseStats                   600\n",
       "att_def_diff                     160\n",
       "AtkDefRation                     9.0\n",
       "Name: 429, dtype: object"
      ]
     },
     "execution_count": 259,
     "metadata": {},
     "output_type": "execute_result"
    }
   ],
   "source": [
    "\n",
    "pok['AtkDefRation'] = pok['Attack'] / pok['Defense']\n",
    "idx = pok['AtkDefRation'].idxmax()\n",
    "pok.loc[idx]"
   ]
  },
  {
   "cell_type": "markdown",
   "id": "1d553134",
   "metadata": {},
   "source": [
    "# How many Pokémon have a higher total base stat than the average total base stat of all Water-type Pokémon?\n"
   ]
  },
  {
   "cell_type": "code",
   "execution_count": 274,
   "id": "298f3cd2",
   "metadata": {},
   "outputs": [
    {
     "data": {
      "text/plain": [
       "428"
      ]
     },
     "execution_count": 274,
     "metadata": {},
     "output_type": "execute_result"
    }
   ],
   "source": [
    "\n",
    "avg = pok.query(\"Type1 == 'Water' or Type2 == 'Water'\")['TotalBaseStats'].mean()\n",
    "pok.query(\"TotalBaseStats > @avg\").shape[0]"
   ]
  }
 ],
 "metadata": {
  "kernelspec": {
   "display_name": "Python 3 (ipykernel)",
   "language": "python",
   "name": "python3"
  },
  "language_info": {
   "codemirror_mode": {
    "name": "ipython",
    "version": 3
   },
   "file_extension": ".py",
   "mimetype": "text/x-python",
   "name": "python",
   "nbconvert_exporter": "python",
   "pygments_lexer": "ipython3",
   "version": "3.10.6"
  }
 },
 "nbformat": 4,
 "nbformat_minor": 5
}
